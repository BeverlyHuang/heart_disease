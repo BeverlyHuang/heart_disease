{
  "nbformat": 4,
  "nbformat_minor": 0,
  "metadata": {
    "colab": {
      "name": "Heart_Disease_Classification.ipynb",
      "version": "0.3.2",
      "provenance": [],
      "collapsed_sections": [],
      "include_colab_link": true
    },
    "kernelspec": {
      "name": "python3",
      "display_name": "Python 3"
    }
  },
  "cells": [
    {
      "cell_type": "markdown",
      "metadata": {
        "id": "view-in-github",
        "colab_type": "text"
      },
      "source": [
        "<a href=\"https://colab.research.google.com/github/BeverlyHuang/heart_disease/blob/master/Heart_Disease_Classification.ipynb\" target=\"_parent\"><img src=\"https://colab.research.google.com/assets/colab-badge.svg\" alt=\"Open In Colab\"/></a>"
      ]
    },
    {
      "cell_type": "markdown",
      "metadata": {
        "id": "kcv2RiiCgoo4",
        "colab_type": "text"
      },
      "source": [
        "#Heart Disease Classification"
      ]
    },
    {
      "cell_type": "markdown",
      "metadata": {
        "id": "Eaw16wXY-ucG",
        "colab_type": "text"
      },
      "source": [
        "##Framework\n",
        "\n",
        "![](https://raw.githubusercontent.com/BeverlyHuang/heart_disease/master/ds_process_model.png)"
      ]
    },
    {
      "cell_type": "markdown",
      "metadata": {
        "id": "kJpLCrd1_9H8",
        "colab_type": "text"
      },
      "source": [
        "#Business Understanding"
      ]
    },
    {
      "cell_type": "markdown",
      "metadata": {
        "id": "MKBCBGOUABOQ",
        "colab_type": "text"
      },
      "source": [
        "* Predicting the presence of heart disease in the patient based on available medical records\n",
        "* Enabling the healthcare organization to develop proactive medical interventions for the patient"
      ]
    },
    {
      "cell_type": "markdown",
      "metadata": {
        "id": "5lq6wD83ALKI",
        "colab_type": "text"
      },
      "source": [
        "#Data Understanding"
      ]
    },
    {
      "cell_type": "markdown",
      "metadata": {
        "id": "J6aYmRPGAWeU",
        "colab_type": "text"
      },
      "source": [
        "* Data Sources: Heart disease data set from UCI machine learning repository\n",
        "* The original data set is collected from locations: Cleveland Clinic Foundation, Hungarian Institute of Cardiology, Budapest, V.A. Medical Center, Long Beach, CA, University Hospital, Zurich, Switzerland\n",
        "* Features: Age, sex, chest pain type, serum cholesterol, serum cholesterol, fasting blood sugar, resting electrocardiographic results, maximum heart rate, exercise induced angina, ST depression induced by exercise relative to rest, the slope of the peak exercise ST segment, number of major vessels colored by fluoroscopy, thal"
      ]
    },
    {
      "cell_type": "markdown",
      "metadata": {
        "id": "5j58M_EUgwdR",
        "colab_type": "text"
      },
      "source": [
        "#Data Preparation"
      ]
    },
    {
      "cell_type": "markdown",
      "metadata": {
        "id": "Y2K4BM0ag0gl",
        "colab_type": "text"
      },
      "source": [
        "###Import Packages"
      ]
    },
    {
      "cell_type": "code",
      "metadata": {
        "id": "U_5Uz-8iHRns",
        "colab_type": "code",
        "colab": {}
      },
      "source": [
        "import numpy as np\n",
        "import pandas as pd\n",
        "import seaborn as sns\n",
        "import matplotlib.pyplot as plt\n",
        "%matplotlib inline\n",
        "\n",
        "from sklearn.linear_model import LogisticRegression\n",
        "from sklearn.svm import SVC\n",
        "from sklearn.ensemble import RandomForestClassifier\n",
        "\n",
        "from sklearn import model_selection\n",
        "from sklearn.model_selection import train_test_split, GridSearchCV, RandomizedSearchCV\n",
        "from yellowbrick.classifier import ConfusionMatrix\n",
        "from sklearn.metrics import classification_report\n",
        "from yellowbrick.classifier import ConfusionMatrix, ROCAUC\n",
        "from sklearn.metrics import roc_curve, auc\n",
        "\n",
        "import warnings\n",
        "warnings.filterwarnings(\"ignore\")"
      ],
      "execution_count": 0,
      "outputs": []
    },
    {
      "cell_type": "markdown",
      "metadata": {
        "id": "3rbKwR4pg3Rl",
        "colab_type": "text"
      },
      "source": [
        "###Load Data"
      ]
    },
    {
      "cell_type": "code",
      "metadata": {
        "id": "SjXkyUKaRQ14",
        "colab_type": "code",
        "outputId": "8de41a6b-87d6-4286-f267-28ea49e33720",
        "colab": {
          "base_uri": "https://localhost:8080/",
          "height": 204
        }
      },
      "source": [
        "df = pd.read_csv(\"https://raw.githubusercontent.com/BeverlyHuang/heart_disease/master/heart.csv\")\n",
        "df.head()"
      ],
      "execution_count": 0,
      "outputs": [
        {
          "output_type": "execute_result",
          "data": {
            "text/html": [
              "<div>\n",
              "<style scoped>\n",
              "    .dataframe tbody tr th:only-of-type {\n",
              "        vertical-align: middle;\n",
              "    }\n",
              "\n",
              "    .dataframe tbody tr th {\n",
              "        vertical-align: top;\n",
              "    }\n",
              "\n",
              "    .dataframe thead th {\n",
              "        text-align: right;\n",
              "    }\n",
              "</style>\n",
              "<table border=\"1\" class=\"dataframe\">\n",
              "  <thead>\n",
              "    <tr style=\"text-align: right;\">\n",
              "      <th></th>\n",
              "      <th>age</th>\n",
              "      <th>sex</th>\n",
              "      <th>cp</th>\n",
              "      <th>trestbps</th>\n",
              "      <th>chol</th>\n",
              "      <th>fbs</th>\n",
              "      <th>restecg</th>\n",
              "      <th>thalach</th>\n",
              "      <th>exang</th>\n",
              "      <th>oldpeak</th>\n",
              "      <th>slope</th>\n",
              "      <th>ca</th>\n",
              "      <th>thal</th>\n",
              "      <th>target</th>\n",
              "    </tr>\n",
              "  </thead>\n",
              "  <tbody>\n",
              "    <tr>\n",
              "      <th>0</th>\n",
              "      <td>63</td>\n",
              "      <td>1</td>\n",
              "      <td>3</td>\n",
              "      <td>145</td>\n",
              "      <td>233</td>\n",
              "      <td>1</td>\n",
              "      <td>0</td>\n",
              "      <td>150</td>\n",
              "      <td>0</td>\n",
              "      <td>2.3</td>\n",
              "      <td>0</td>\n",
              "      <td>0</td>\n",
              "      <td>1</td>\n",
              "      <td>1</td>\n",
              "    </tr>\n",
              "    <tr>\n",
              "      <th>1</th>\n",
              "      <td>37</td>\n",
              "      <td>1</td>\n",
              "      <td>2</td>\n",
              "      <td>130</td>\n",
              "      <td>250</td>\n",
              "      <td>0</td>\n",
              "      <td>1</td>\n",
              "      <td>187</td>\n",
              "      <td>0</td>\n",
              "      <td>3.5</td>\n",
              "      <td>0</td>\n",
              "      <td>0</td>\n",
              "      <td>2</td>\n",
              "      <td>1</td>\n",
              "    </tr>\n",
              "    <tr>\n",
              "      <th>2</th>\n",
              "      <td>41</td>\n",
              "      <td>0</td>\n",
              "      <td>1</td>\n",
              "      <td>130</td>\n",
              "      <td>204</td>\n",
              "      <td>0</td>\n",
              "      <td>0</td>\n",
              "      <td>172</td>\n",
              "      <td>0</td>\n",
              "      <td>1.4</td>\n",
              "      <td>2</td>\n",
              "      <td>0</td>\n",
              "      <td>2</td>\n",
              "      <td>1</td>\n",
              "    </tr>\n",
              "    <tr>\n",
              "      <th>3</th>\n",
              "      <td>56</td>\n",
              "      <td>1</td>\n",
              "      <td>1</td>\n",
              "      <td>120</td>\n",
              "      <td>236</td>\n",
              "      <td>0</td>\n",
              "      <td>1</td>\n",
              "      <td>178</td>\n",
              "      <td>0</td>\n",
              "      <td>0.8</td>\n",
              "      <td>2</td>\n",
              "      <td>0</td>\n",
              "      <td>2</td>\n",
              "      <td>1</td>\n",
              "    </tr>\n",
              "    <tr>\n",
              "      <th>4</th>\n",
              "      <td>57</td>\n",
              "      <td>0</td>\n",
              "      <td>0</td>\n",
              "      <td>120</td>\n",
              "      <td>354</td>\n",
              "      <td>0</td>\n",
              "      <td>1</td>\n",
              "      <td>163</td>\n",
              "      <td>1</td>\n",
              "      <td>0.6</td>\n",
              "      <td>2</td>\n",
              "      <td>0</td>\n",
              "      <td>2</td>\n",
              "      <td>1</td>\n",
              "    </tr>\n",
              "  </tbody>\n",
              "</table>\n",
              "</div>"
            ],
            "text/plain": [
              "   age  sex  cp  trestbps  chol  fbs  restecg  thalach  exang  oldpeak  slope  \\\n",
              "0   63    1   3       145   233    1        0      150      0      2.3      0   \n",
              "1   37    1   2       130   250    0        1      187      0      3.5      0   \n",
              "2   41    0   1       130   204    0        0      172      0      1.4      2   \n",
              "3   56    1   1       120   236    0        1      178      0      0.8      2   \n",
              "4   57    0   0       120   354    0        1      163      1      0.6      2   \n",
              "\n",
              "   ca  thal  target  \n",
              "0   0     1       1  \n",
              "1   0     2       1  \n",
              "2   0     2       1  \n",
              "3   0     2       1  \n",
              "4   0     2       1  "
            ]
          },
          "metadata": {
            "tags": []
          },
          "execution_count": 2
        }
      ]
    },
    {
      "cell_type": "markdown",
      "metadata": {
        "id": "mECb7ntoapew",
        "colab_type": "text"
      },
      "source": [
        "###Seperate features and target"
      ]
    },
    {
      "cell_type": "code",
      "metadata": {
        "id": "U3CrnrzjaoO_",
        "colab_type": "code",
        "colab": {}
      },
      "source": [
        "X=df.drop('target',axis=1)\n",
        "y=df['target']"
      ],
      "execution_count": 0,
      "outputs": []
    },
    {
      "cell_type": "markdown",
      "metadata": {
        "id": "I6Ji-tJya1jG",
        "colab_type": "text"
      },
      "source": [
        "###Train/Test split"
      ]
    },
    {
      "cell_type": "code",
      "metadata": {
        "id": "-j7RdmBfa5oL",
        "colab_type": "code",
        "colab": {}
      },
      "source": [
        "X_train, X_test, y_train, y_test = train_test_split(X, y, test_size=0.3, random_state=100, stratify=y)"
      ],
      "execution_count": 0,
      "outputs": []
    },
    {
      "cell_type": "markdown",
      "metadata": {
        "id": "cR0DY7qjA5E6",
        "colab_type": "text"
      },
      "source": [
        "#Modeling & Evaluation"
      ]
    },
    {
      "cell_type": "markdown",
      "metadata": {
        "id": "mCG6WaDG_G6_",
        "colab_type": "text"
      },
      "source": [
        "##Model 1: Logistics Regression"
      ]
    },
    {
      "cell_type": "markdown",
      "metadata": {
        "id": "n-wv_e0BhFpr",
        "colab_type": "text"
      },
      "source": [
        "###Default model result"
      ]
    },
    {
      "cell_type": "code",
      "metadata": {
        "id": "N7PkQG7uYh57",
        "colab_type": "code",
        "outputId": "d055a502-4a06-4309-aa30-4879fe3e2893",
        "colab": {
          "base_uri": "https://localhost:8080/",
          "height": 34
        }
      },
      "source": [
        "logreg = LogisticRegression()\n",
        "logreg.fit(X_train,y_train)\n",
        "y_pred = logreg.predict(X_test)\n",
        "logreg.score(X_test,y_test)"
      ],
      "execution_count": 0,
      "outputs": [
        {
          "output_type": "execute_result",
          "data": {
            "text/plain": [
              "0.8461538461538461"
            ]
          },
          "metadata": {
            "tags": []
          },
          "execution_count": 5
        }
      ]
    },
    {
      "cell_type": "markdown",
      "metadata": {
        "id": "ODR8za5R_99J",
        "colab_type": "text"
      },
      "source": [
        "### Set up hyperparameter grid"
      ]
    },
    {
      "cell_type": "code",
      "metadata": {
        "id": "Cj4OU7Mp1o3q",
        "colab_type": "code",
        "colab": {}
      },
      "source": [
        "c_space = np.logspace(-5,8,15)\n",
        "param_grid = {'C': c_space}"
      ],
      "execution_count": 0,
      "outputs": []
    },
    {
      "cell_type": "markdown",
      "metadata": {
        "id": "_5083X28ASww",
        "colab_type": "text"
      },
      "source": [
        "### GridSearch for best parameters"
      ]
    },
    {
      "cell_type": "code",
      "metadata": {
        "id": "rMCA1-2v0oub",
        "colab_type": "code",
        "outputId": "fd9df0dd-c762-4733-b838-37fd10540e85",
        "colab": {
          "base_uri": "https://localhost:8080/",
          "height": 34
        }
      },
      "source": [
        "logreg = LogisticRegression()\n",
        "logreg_cv = GridSearchCV(logreg, param_grid, cv=10)\n",
        "logreg_cv.fit(X_train,y_train)\n",
        "logreg_cv.best_params_"
      ],
      "execution_count": 0,
      "outputs": [
        {
          "output_type": "execute_result",
          "data": {
            "text/plain": [
              "{'C': 0.4393970560760795}"
            ]
          },
          "metadata": {
            "tags": []
          },
          "execution_count": 7
        }
      ]
    },
    {
      "cell_type": "markdown",
      "metadata": {
        "id": "GnxH13g7AgkQ",
        "colab_type": "text"
      },
      "source": [
        "###Use the best parameters to predict"
      ]
    },
    {
      "cell_type": "code",
      "metadata": {
        "id": "50rBJsow3OyG",
        "colab_type": "code",
        "outputId": "72100f73-4940-4d2f-8a7b-1585ba1119c8",
        "colab": {
          "base_uri": "https://localhost:8080/",
          "height": 34
        }
      },
      "source": [
        "y_pred = logreg_cv.predict(X_test)\n",
        "logreg_cv.score(X_test,y_test)"
      ],
      "execution_count": 0,
      "outputs": [
        {
          "output_type": "execute_result",
          "data": {
            "text/plain": [
              "0.8571428571428571"
            ]
          },
          "metadata": {
            "tags": []
          },
          "execution_count": 8
        }
      ]
    },
    {
      "cell_type": "markdown",
      "metadata": {
        "id": "t5XIXHVqhfgi",
        "colab_type": "text"
      },
      "source": [
        "###Confusion matrix"
      ]
    },
    {
      "cell_type": "code",
      "metadata": {
        "id": "tSghjiH4Xicj",
        "colab_type": "code",
        "outputId": "3d5dd7c4-339c-4518-9f05-e56952bcd1c8",
        "colab": {
          "base_uri": "https://localhost:8080/",
          "height": 373
        }
      },
      "source": [
        "cm = ConfusionMatrix(logreg_cv, classes=[0,1])\n",
        "cm.fit(X_train, y_train)\n",
        "cm.score(X_test, y_test)\n",
        "cm.poof()"
      ],
      "execution_count": 0,
      "outputs": [
        {
          "output_type": "display_data",
          "data": {
            "image/png": "[encoded data removed]",
            "text/plain": [
              "<Figure size 576x396 with 1 Axes>"
            ]
          },
          "metadata": {
            "tags": []
          }
        }
      ]
    },
    {
      "cell_type": "markdown",
      "metadata": {
        "colab_type": "text",
        "id": "rrcV637bfRiP"
      },
      "source": [
        "###Classfication report"
      ]
    },
    {
      "cell_type": "code",
      "metadata": {
        "colab_type": "code",
        "outputId": "efda0296-ceee-43ac-8c95-7c2bf371e181",
        "id": "sQ-EoZDofRiT",
        "colab": {
          "base_uri": "https://localhost:8080/",
          "height": 170
        }
      },
      "source": [
        "print(classification_report(y_test, y_pred))"
      ],
      "execution_count": 0,
      "outputs": [
        {
          "output_type": "stream",
          "text": [
            "              precision    recall  f1-score   support\n",
            "\n",
            "           0       0.87      0.80      0.84        41\n",
            "           1       0.85      0.90      0.87        50\n",
            "\n",
            "   micro avg       0.86      0.86      0.86        91\n",
            "   macro avg       0.86      0.85      0.85        91\n",
            "weighted avg       0.86      0.86      0.86        91\n",
            "\n"
          ],
          "name": "stdout"
        }
      ]
    },
    {
      "cell_type": "markdown",
      "metadata": {
        "id": "vnbpRAP0hV1T",
        "colab_type": "text"
      },
      "source": [
        "###ROC AUC"
      ]
    },
    {
      "cell_type": "code",
      "metadata": {
        "id": "ObdAp5dkghrz",
        "colab_type": "code",
        "outputId": "68408ed4-9695-4cd2-d6bc-e154d061ffa5",
        "colab": {
          "base_uri": "https://localhost:8080/",
          "height": 376
        }
      },
      "source": [
        "# Instantiate the visualizer with the classification model\n",
        "visualizer = ROCAUC(logreg_cv)\n",
        "\n",
        "visualizer.fit(X_train, y_train)  # Fit the training data to the visualizer\n",
        "visualizer.score(X_test, y_test)  # Evaluate the model on the test data\n",
        "g = visualizer.poof()             # Draw/show/poof the data"
      ],
      "execution_count": 0,
      "outputs": [
        {
          "output_type": "display_data",
          "data": {
            "image/png": "[encoded data removed]",
            "text/plain": [
              "<Figure size 576x396 with 1 Axes>"
            ]
          },
          "metadata": {
            "tags": []
          }
        }
      ]
    },
    {
      "cell_type": "markdown",
      "metadata": {
        "id": "VSGZo4bHBJ0G",
        "colab_type": "text"
      },
      "source": [
        "###Performance Interpretation "
      ]
    },
    {
      "cell_type": "markdown",
      "metadata": {
        "id": "bOkGOJWiBUF_",
        "colab_type": "text"
      },
      "source": [
        "* Using logistics regression, the best model achieves 85.71% accuracy \n",
        "* False positives (type I error) means the patient does not have heart disease while our predicted result indicates that the patient does have disease. False negatives (type II error) means the patient has heart disease while our predicted result indicates that the patient does not have disease. \n",
        "* In this case, false negatives are more serious because we fail to identify heart disease patients. So we want to minimize false negatives, i.e. maximize recall (Σ True positive/Σ Condition positive)\n",
        "* Here, recall =  0.9. The model can identify 90% heart disease patients correctly"
      ]
    },
    {
      "cell_type": "markdown",
      "metadata": {
        "id": "mW_MIZTlagqq",
        "colab_type": "text"
      },
      "source": [
        "##Model 2: SVM"
      ]
    },
    {
      "cell_type": "markdown",
      "metadata": {
        "id": "bW9En3Kfhxxs",
        "colab_type": "text"
      },
      "source": [
        "###Default model result"
      ]
    },
    {
      "cell_type": "code",
      "metadata": {
        "id": "3i56Cr6RXxvS",
        "colab_type": "code",
        "outputId": "33341dcc-2a06-4342-ffba-eab518d206f7",
        "colab": {
          "base_uri": "https://localhost:8080/",
          "height": 34
        }
      },
      "source": [
        "svm = SVC(random_state = 1)\n",
        "svm.fit(X_train, y_train)\n",
        "y_pred = svm.predict(X_test)\n",
        "svm.score(X_test,y_test)"
      ],
      "execution_count": 0,
      "outputs": [
        {
          "output_type": "execute_result",
          "data": {
            "text/plain": [
              "0.5494505494505495"
            ]
          },
          "metadata": {
            "tags": []
          },
          "execution_count": 46
        }
      ]
    },
    {
      "cell_type": "markdown",
      "metadata": {
        "colab_type": "text",
        "id": "dyoTxsDXbaXu"
      },
      "source": [
        "### Set up hyperparameter grid"
      ]
    },
    {
      "cell_type": "code",
      "metadata": {
        "colab_type": "code",
        "id": "ZNwKZdBlbaXw",
        "colab": {}
      },
      "source": [
        "Cs = [0.001, 0.01, 0.1, 1, 10]\n",
        "gammas = [0.001, 0.01, 0.1, 1]\n",
        "param_grid = {'C': Cs, 'gamma' : gammas}"
      ],
      "execution_count": 0,
      "outputs": []
    },
    {
      "cell_type": "markdown",
      "metadata": {
        "colab_type": "text",
        "id": "_lqIRLlxbaX5"
      },
      "source": [
        "### GridSearch for best parameters"
      ]
    },
    {
      "cell_type": "code",
      "metadata": {
        "colab_type": "code",
        "outputId": "292a4876-1905-415d-aae4-0dab10d24113",
        "id": "ymLxCNFvbaX6",
        "colab": {
          "base_uri": "https://localhost:8080/",
          "height": 34
        }
      },
      "source": [
        "svm = SVC(kernel='rbf')\n",
        "svm_cv = GridSearchCV(svm, param_grid, cv=10)\n",
        "svm_cv.fit(X, y)\n",
        "svm_cv.best_params_"
      ],
      "execution_count": 0,
      "outputs": [
        {
          "output_type": "execute_result",
          "data": {
            "text/plain": [
              "{'C': 10, 'gamma': 0.001}"
            ]
          },
          "metadata": {
            "tags": []
          },
          "execution_count": 62
        }
      ]
    },
    {
      "cell_type": "markdown",
      "metadata": {
        "colab_type": "text",
        "id": "6Q4K1L0ebaX_"
      },
      "source": [
        "###Use the best parameters to predict"
      ]
    },
    {
      "cell_type": "code",
      "metadata": {
        "colab_type": "code",
        "outputId": "da1263ac-51b7-444a-d9e1-301d1a5b9619",
        "id": "wzwgMCC8baYB",
        "colab": {
          "base_uri": "https://localhost:8080/",
          "height": 34
        }
      },
      "source": [
        "y_pred = svm_cv.predict(X_test)\n",
        "svm_cv.score(X_test,y_test)"
      ],
      "execution_count": 0,
      "outputs": [
        {
          "output_type": "execute_result",
          "data": {
            "text/plain": [
              "0.7252747252747253"
            ]
          },
          "metadata": {
            "tags": []
          },
          "execution_count": 66
        }
      ]
    },
    {
      "cell_type": "markdown",
      "metadata": {
        "id": "Hk2o5moXh_pk",
        "colab_type": "text"
      },
      "source": [
        "###Confusion matrix"
      ]
    },
    {
      "cell_type": "code",
      "metadata": {
        "colab_type": "code",
        "outputId": "f629609a-b666-4c97-fbb0-a81e0c258124",
        "id": "jhYH4P35baYH",
        "colab": {
          "base_uri": "https://localhost:8080/",
          "height": 290
        }
      },
      "source": [
        "cm = ConfusionMatrix(svm_cv, classes=[0,1])\n",
        "cm.fit(X_train, y_train)\n",
        "cm.score(X_test, y_test)\n",
        "cm.poof()"
      ],
      "execution_count": 0,
      "outputs": [
        {
          "output_type": "display_data",
          "data": {
            "image/png": "[encoded data removed]",
            "text/plain": [
              "<Figure size 432x288 with 1 Axes>"
            ]
          },
          "metadata": {
            "tags": []
          }
        }
      ]
    },
    {
      "cell_type": "markdown",
      "metadata": {
        "colab_type": "text",
        "id": "Nk0dBvJXfQpL"
      },
      "source": [
        "###Classfication report"
      ]
    },
    {
      "cell_type": "code",
      "metadata": {
        "colab_type": "code",
        "outputId": "006fe8c2-f79c-4f4e-ca52-a5d4eb3f057e",
        "id": "jHPDRsvJfQpO",
        "colab": {
          "base_uri": "https://localhost:8080/",
          "height": 170
        }
      },
      "source": [
        "print(classification_report(y_test, y_pred))"
      ],
      "execution_count": 0,
      "outputs": [
        {
          "output_type": "stream",
          "text": [
            "              precision    recall  f1-score   support\n",
            "\n",
            "           0       0.69      0.71      0.70        41\n",
            "           1       0.76      0.74      0.75        50\n",
            "\n",
            "   micro avg       0.73      0.73      0.73        91\n",
            "   macro avg       0.72      0.72      0.72        91\n",
            "weighted avg       0.73      0.73      0.73        91\n",
            "\n"
          ],
          "name": "stdout"
        }
      ]
    },
    {
      "cell_type": "code",
      "metadata": {
        "id": "9dPL4VnngdEP",
        "colab_type": "code",
        "outputId": "32a8bcfe-7e99-456c-9bfb-43e827920f19",
        "colab": {
          "base_uri": "https://localhost:8080/",
          "height": 376
        }
      },
      "source": [
        "# Instantiate the visualizer with the classification model\n",
        "visualizer = ROCAUC(svm_cv, micro=False, macro=False, per_class=False)\n",
        "\n",
        "visualizer.fit(X_train, y_train)  # Fit the training data to the visualizer\n",
        "visualizer.score(X_test, y_test)  # Evaluate the model on the test data\n",
        "g = visualizer.poof()             # Draw/show/poof the data"
      ],
      "execution_count": 0,
      "outputs": [
        {
          "output_type": "display_data",
          "data": {
            "image/png": "[encoded data removed]",
            "text/plain": [
              "<Figure size 576x396 with 1 Axes>"
            ]
          },
          "metadata": {
            "tags": []
          }
        }
      ]
    },
    {
      "cell_type": "markdown",
      "metadata": {
        "colab_type": "text",
        "id": "0xaJpaBFHLsn"
      },
      "source": [
        "###Performance Interpretation "
      ]
    },
    {
      "cell_type": "markdown",
      "metadata": {
        "colab_type": "text",
        "id": "3lTox1JxHLsp"
      },
      "source": [
        "* Using SVM, the best model achieves 72.53% accuracy \n",
        "* Here, recall =  0.74. The model can identify 74% heart disease patients correctly"
      ]
    },
    {
      "cell_type": "markdown",
      "metadata": {
        "id": "D2coQvCzA6IQ",
        "colab_type": "text"
      },
      "source": [
        "##Model 3: Random Forest"
      ]
    },
    {
      "cell_type": "markdown",
      "metadata": {
        "id": "DgdhDDGLhzNn",
        "colab_type": "text"
      },
      "source": [
        "###Default model result"
      ]
    },
    {
      "cell_type": "code",
      "metadata": {
        "colab_type": "code",
        "outputId": "c42c0ed6-0047-40be-e1b1-0eb1d00fd973",
        "id": "_B9J6EVQefJs",
        "colab": {
          "base_uri": "https://localhost:8080/",
          "height": 34
        }
      },
      "source": [
        "rfc=RandomForestClassifier(random_state=1)\n",
        "rfc.fit(X_train, y_train)\n",
        "rfc.score(X_test,y_test)"
      ],
      "execution_count": 0,
      "outputs": [
        {
          "output_type": "execute_result",
          "data": {
            "text/plain": [
              "0.8241758241758241"
            ]
          },
          "metadata": {
            "tags": []
          },
          "execution_count": 20
        }
      ]
    },
    {
      "cell_type": "markdown",
      "metadata": {
        "id": "kxFVcYpBA-PD",
        "colab_type": "text"
      },
      "source": [
        "### Set up hyperparameter grid"
      ]
    },
    {
      "cell_type": "code",
      "metadata": {
        "id": "i9r4jMU98YS8",
        "colab_type": "code",
        "colab": {}
      },
      "source": [
        "param_grid = {'n_estimators': [200, 500],\n",
        "    'max_features': ['auto', 'sqrt', 'log2'],\n",
        "    'max_depth' : np.arange(3,10),\n",
        "    'min_samples_leaf': np.arange(2,8),\n",
        "    'criterion' :['gini', 'entropy']}"
      ],
      "execution_count": 0,
      "outputs": []
    },
    {
      "cell_type": "markdown",
      "metadata": {
        "id": "INagAV3LA_0m",
        "colab_type": "text"
      },
      "source": [
        "### GridSearch for best parameters"
      ]
    },
    {
      "cell_type": "code",
      "metadata": {
        "id": "keevdHbJ8Sca",
        "colab_type": "code",
        "outputId": "d9384d1a-f88f-43f8-c309-3ac6e5a24d6d",
        "colab": {
          "base_uri": "https://localhost:8080/",
          "height": 102
        }
      },
      "source": [
        "rfc=RandomForestClassifier(random_state=1)\n",
        "rfc_cv = RandomizedSearchCV(rfc, param_grid, cv=10)\n",
        "rfc_cv.fit(X_train, y_train)\n",
        "rfc_cv.best_params_"
      ],
      "execution_count": 0,
      "outputs": [
        {
          "output_type": "execute_result",
          "data": {
            "text/plain": [
              "{'criterion': 'gini',\n",
              " 'max_depth': 6,\n",
              " 'max_features': 'auto',\n",
              " 'min_samples_leaf': 2,\n",
              " 'n_estimators': 500}"
            ]
          },
          "metadata": {
            "tags": []
          },
          "execution_count": 22
        }
      ]
    },
    {
      "cell_type": "markdown",
      "metadata": {
        "id": "aF_pNJQPBB1l",
        "colab_type": "text"
      },
      "source": [
        "###Use the best parameters to predict"
      ]
    },
    {
      "cell_type": "code",
      "metadata": {
        "id": "MKYGlBhk9rVe",
        "colab_type": "code",
        "outputId": "8d4eea31-1053-4d0d-c0b6-9113a0ffc753",
        "colab": {
          "base_uri": "https://localhost:8080/",
          "height": 34
        }
      },
      "source": [
        "y_pred = rfc_cv.predict(X_test)\n",
        "rfc_cv.score(X_test,y_test)"
      ],
      "execution_count": 0,
      "outputs": [
        {
          "output_type": "execute_result",
          "data": {
            "text/plain": [
              "0.8571428571428571"
            ]
          },
          "metadata": {
            "tags": []
          },
          "execution_count": 67
        }
      ]
    },
    {
      "cell_type": "markdown",
      "metadata": {
        "id": "SdzIbrqD5yQx",
        "colab_type": "text"
      },
      "source": [
        "###Confusion matrix"
      ]
    },
    {
      "cell_type": "code",
      "metadata": {
        "id": "VnLm5-Xr58Fi",
        "colab_type": "code",
        "outputId": "40fb2b03-7f2b-4fad-8459-647a7019fc25",
        "colab": {
          "base_uri": "https://localhost:8080/",
          "height": 290
        }
      },
      "source": [
        "cm = ConfusionMatrix(rfc_cv, classes=[0,1])\n",
        "cm.fit(X_train, y_train)\n",
        "cm.score(X_test, y_test)\n",
        "cm.poof()"
      ],
      "execution_count": 0,
      "outputs": [
        {
          "output_type": "display_data",
          "data": {
            "image/png": "[encoded data removed]",
            "text/plain": [
              "<Figure size 432x288 with 1 Axes>"
            ]
          },
          "metadata": {
            "tags": []
          }
        }
      ]
    },
    {
      "cell_type": "markdown",
      "metadata": {
        "id": "xVGPM-fkhgrU",
        "colab_type": "text"
      },
      "source": [
        "###Classfication report"
      ]
    },
    {
      "cell_type": "code",
      "metadata": {
        "id": "D7b2F8j6hhkc",
        "colab_type": "code",
        "outputId": "a173f52c-e280-40bb-8293-553faa528276",
        "colab": {
          "base_uri": "https://localhost:8080/",
          "height": 170
        }
      },
      "source": [
        "print(classification_report(y_test, y_pred))"
      ],
      "execution_count": 0,
      "outputs": [
        {
          "output_type": "stream",
          "text": [
            "              precision    recall  f1-score   support\n",
            "\n",
            "           0       0.89      0.78      0.83        41\n",
            "           1       0.84      0.92      0.88        50\n",
            "\n",
            "   micro avg       0.86      0.86      0.86        91\n",
            "   macro avg       0.86      0.85      0.85        91\n",
            "weighted avg       0.86      0.86      0.86        91\n",
            "\n"
          ],
          "name": "stdout"
        }
      ]
    },
    {
      "cell_type": "markdown",
      "metadata": {
        "id": "PXAXRttPiD7L",
        "colab_type": "text"
      },
      "source": [
        "###ROC AUC"
      ]
    },
    {
      "cell_type": "code",
      "metadata": {
        "id": "h3krcF-YfpIE",
        "colab_type": "code",
        "outputId": "92d1e8c6-740a-425f-a41a-82a2bf713316",
        "colab": {
          "base_uri": "https://localhost:8080/",
          "height": 376
        }
      },
      "source": [
        "# Instantiate the visualizer with the classification model\n",
        "visualizer = ROCAUC(rfc_cv)\n",
        "\n",
        "visualizer.fit(X_train, y_train)  # Fit the training data to the visualizer\n",
        "visualizer.score(X_test, y_test)  # Evaluate the model on the test data\n",
        "g = visualizer.poof()             # Draw/show/poof the data"
      ],
      "execution_count": 0,
      "outputs": [
        {
          "output_type": "display_data",
          "data": {
            "image/png": "[encoded data removed]",
            "text/plain": [
              "<Figure size 576x396 with 1 Axes>"
            ]
          },
          "metadata": {
            "tags": []
          }
        }
      ]
    },
    {
      "cell_type": "markdown",
      "metadata": {
        "colab_type": "text",
        "id": "JDn16LmiHhMB"
      },
      "source": [
        "###Performance Interpretation "
      ]
    },
    {
      "cell_type": "markdown",
      "metadata": {
        "colab_type": "text",
        "id": "L9bCuhBlHhMF"
      },
      "source": [
        "* Using random forest, the best model achieves 85.71% accuracy \n",
        "* Here, recall =  0.92. The model can identify 92% heart disease patients correctly"
      ]
    },
    {
      "cell_type": "markdown",
      "metadata": {
        "id": "0fs95VTStv_x",
        "colab_type": "text"
      },
      "source": [
        "##Model 4: AutoML Using TPOT"
      ]
    },
    {
      "cell_type": "markdown",
      "metadata": {
        "id": "6MU7HnnBuS7h",
        "colab_type": "text"
      },
      "source": [
        "###Install TPOT"
      ]
    },
    {
      "cell_type": "code",
      "metadata": {
        "id": "d9HBfMzMnEFb",
        "colab_type": "code",
        "outputId": "0f69a5d5-bf21-4a05-b7a7-6c55466c7a41",
        "colab": {
          "base_uri": "https://localhost:8080/",
          "height": 564
        }
      },
      "source": [
        "!pip install tpot"
      ],
      "execution_count": 0,
      "outputs": [
        {
          "output_type": "stream",
          "text": [
            "Collecting tpot\n",
            "\u001b[?25l  Downloading https://files.pythonhosted.org/packages/15/c8/46f5c7231f8e3088052cda78ed36198f9ded9f5a5edfc99290f31aa6b57e/TPOT-0.10.1-py3-none-any.whl (74kB)\n",
            "\u001b[K     |████████████████████████████████| 81kB 5.5MB/s \n",
            "\u001b[?25hCollecting deap>=1.0 (from tpot)\n",
            "\u001b[?25l  Downloading https://files.pythonhosted.org/packages/af/29/e7f2ecbe02997b16a768baed076f5fc4781d7057cd5d9adf7c94027845ba/deap-1.2.2.tar.gz (936kB)\n",
            "\u001b[K     |████████████████████████████████| 942kB 15.1MB/s \n",
            "\u001b[?25hRequirement already satisfied: scikit-learn>=0.18.1 in /usr/local/lib/python3.6/dist-packages (from tpot) (0.20.3)\n",
            "Requirement already satisfied: numpy>=1.12.1 in /usr/local/lib/python3.6/dist-packages (from tpot) (1.16.3)\n",
            "Requirement already satisfied: pandas>=0.20.2 in /usr/local/lib/python3.6/dist-packages (from tpot) (0.24.2)\n",
            "Collecting update-checker>=0.16 (from tpot)\n",
            "  Downloading https://files.pythonhosted.org/packages/17/c9/ab11855af164d03be0ff4fddd4c46a5bd44799a9ecc1770e01a669c21168/update_checker-0.16-py2.py3-none-any.whl\n",
            "Requirement already satisfied: tqdm>=4.26.0 in /usr/local/lib/python3.6/dist-packages (from tpot) (4.28.1)\n",
            "Requirement already satisfied: scipy>=0.19.0 in /usr/local/lib/python3.6/dist-packages (from tpot) (1.2.1)\n",
            "Collecting stopit>=1.1.1 (from tpot)\n",
            "  Downloading https://files.pythonhosted.org/packages/35/58/e8bb0b0fb05baf07bbac1450c447d753da65f9701f551dca79823ce15d50/stopit-1.1.2.tar.gz\n",
            "Requirement already satisfied: python-dateutil>=2.5.0 in /usr/local/lib/python3.6/dist-packages (from pandas>=0.20.2->tpot) (2.5.3)\n",
            "Requirement already satisfied: pytz>=2011k in /usr/local/lib/python3.6/dist-packages (from pandas>=0.20.2->tpot) (2018.9)\n",
            "Requirement already satisfied: requests>=2.3.0 in /usr/local/lib/python3.6/dist-packages (from update-checker>=0.16->tpot) (2.21.0)\n",
            "Requirement already satisfied: six>=1.5 in /usr/local/lib/python3.6/dist-packages (from python-dateutil>=2.5.0->pandas>=0.20.2->tpot) (1.12.0)\n",
            "Requirement already satisfied: idna<2.9,>=2.5 in /usr/local/lib/python3.6/dist-packages (from requests>=2.3.0->update-checker>=0.16->tpot) (2.8)\n",
            "Requirement already satisfied: chardet<3.1.0,>=3.0.2 in /usr/local/lib/python3.6/dist-packages (from requests>=2.3.0->update-checker>=0.16->tpot) (3.0.4)\n",
            "Requirement already satisfied: certifi>=2017.4.17 in /usr/local/lib/python3.6/dist-packages (from requests>=2.3.0->update-checker>=0.16->tpot) (2019.3.9)\n",
            "Requirement already satisfied: urllib3<1.25,>=1.21.1 in /usr/local/lib/python3.6/dist-packages (from requests>=2.3.0->update-checker>=0.16->tpot) (1.24.2)\n",
            "Building wheels for collected packages: deap, stopit\n",
            "  Building wheel for deap (setup.py) ... \u001b[?25l\u001b[?25hdone\n",
            "  Stored in directory: /root/.cache/pip/wheels/22/ea/bf/dc7c8a2262025a0ab5da9ef02282c198be88902791ca0c6658\n",
            "  Building wheel for stopit (setup.py) ... \u001b[?25l\u001b[?25hdone\n",
            "  Stored in directory: /root/.cache/pip/wheels/3c/85/2b/2580190404636bfc63e8de3dff629c03bb795021e1983a6cc7\n",
            "Successfully built deap stopit\n",
            "Installing collected packages: deap, update-checker, stopit, tpot\n",
            "Successfully installed deap-1.2.2 stopit-1.1.2 tpot-0.10.1 update-checker-0.16\n"
          ],
          "name": "stdout"
        }
      ]
    },
    {
      "cell_type": "markdown",
      "metadata": {
        "id": "02OG6CBquMX6",
        "colab_type": "text"
      },
      "source": [
        "### Find the best model"
      ]
    },
    {
      "cell_type": "code",
      "metadata": {
        "id": "PLwgxxRinNpQ",
        "colab_type": "code",
        "outputId": "51d31217-d924-4afd-faaf-6a214768d0ce",
        "colab": {
          "base_uri": "https://localhost:8080/",
          "height": 153
        }
      },
      "source": [
        "from tpot import TPOTClassifier\n",
        "tpot = TPOTClassifier(generations=10)\n",
        "tpot.fit(X_train, y_train)"
      ],
      "execution_count": 0,
      "outputs": [
        {
          "output_type": "execute_result",
          "data": {
            "text/plain": [
              "TPOTClassifier(config_dict=None, crossover_rate=0.1, cv=5,\n",
              "        disable_update_check=False, early_stop=None, generations=10,\n",
              "        max_eval_time_mins=5, max_time_mins=None, memory=None,\n",
              "        mutation_rate=0.9, n_jobs=1, offspring_size=None,\n",
              "        periodic_checkpoint_folder=None, population_size=100,\n",
              "        random_state=None, scoring=None, subsample=1.0,\n",
              "        template='RandomTree', use_dask=False, verbosity=0,\n",
              "        warm_start=False)"
            ]
          },
          "metadata": {
            "tags": []
          },
          "execution_count": 30
        }
      ]
    },
    {
      "cell_type": "markdown",
      "metadata": {
        "colab_type": "text",
        "id": "5egbVVrIo0UT"
      },
      "source": [
        "###Use the best model to predict"
      ]
    },
    {
      "cell_type": "code",
      "metadata": {
        "id": "ZkI72G3Eodby",
        "colab_type": "code",
        "outputId": "908da983-f3b0-42f8-fbd7-adadd41f18c7",
        "colab": {
          "base_uri": "https://localhost:8080/",
          "height": 34
        }
      },
      "source": [
        "y_pred = tpot.predict(X_test)\n",
        "tpot.score(X_test,y_test)"
      ],
      "execution_count": 0,
      "outputs": [
        {
          "output_type": "execute_result",
          "data": {
            "text/plain": [
              "0.8461538461538461"
            ]
          },
          "metadata": {
            "tags": []
          },
          "execution_count": 31
        }
      ]
    },
    {
      "cell_type": "markdown",
      "metadata": {
        "colab_type": "text",
        "id": "pSVh1J1no0Uh"
      },
      "source": [
        "###Classfication report"
      ]
    },
    {
      "cell_type": "code",
      "metadata": {
        "colab_type": "code",
        "outputId": "f13c803f-11c3-409f-abf5-88579552932c",
        "id": "DeIvXqGro0Ui",
        "colab": {
          "base_uri": "https://localhost:8080/",
          "height": 170
        }
      },
      "source": [
        "print(classification_report(y_test, y_pred))"
      ],
      "execution_count": 0,
      "outputs": [
        {
          "output_type": "stream",
          "text": [
            "              precision    recall  f1-score   support\n",
            "\n",
            "           0       0.81      0.85      0.83        41\n",
            "           1       0.88      0.84      0.86        50\n",
            "\n",
            "   micro avg       0.85      0.85      0.85        91\n",
            "   macro avg       0.84      0.85      0.85        91\n",
            "weighted avg       0.85      0.85      0.85        91\n",
            "\n"
          ],
          "name": "stdout"
        }
      ]
    },
    {
      "cell_type": "code",
      "metadata": {
        "id": "M0TnOxEuNtbO",
        "colab_type": "code",
        "colab": {}
      },
      "source": [
        "fpr,tpr,threshold = roc_curve(y_test, y_pred)\n",
        "roc_auc = auc(fpr,tpr)"
      ],
      "execution_count": 0,
      "outputs": []
    },
    {
      "cell_type": "code",
      "metadata": {
        "id": "sehsxvGyNvtw",
        "colab_type": "code",
        "outputId": "a89705bc-1a8d-41c5-d4ba-8ef94b1105fe",
        "colab": {
          "base_uri": "https://localhost:8080/",
          "height": 637
        }
      },
      "source": [
        "plt.figure()\n",
        "lw = 2\n",
        "plt.figure(figsize=(10,10))\n",
        "plt.plot(fpr, tpr, color='lightgreen',\n",
        "         lw=lw, label='ROC curve (area = %0.2f)' % roc_auc) \n",
        "plt.plot([0, 1], [0, 1], color='gray', lw=lw, linestyle='--')\n",
        "plt.xlim([0.0, 1.0])\n",
        "plt.ylim([0.0, 1.05])\n",
        "plt.xlabel('False Positive Rate')\n",
        "plt.ylabel('True Positive Rate')\n",
        "plt.title('Heart Disease Classification')\n",
        "plt.legend(loc=\"lower right\")\n",
        "plt.show()"
      ],
      "execution_count": 0,
      "outputs": [
        {
          "output_type": "display_data",
          "data": {
            "text/plain": [
              "<Figure size 432x288 with 0 Axes>"
            ]
          },
          "metadata": {
            "tags": []
          }
        },
        {
          "output_type": "display_data",
          "data": {
            "image/png": "[encoded data removed]",
            "text/plain": [
              "<Figure size 720x720 with 1 Axes>"
            ]
          },
          "metadata": {
            "tags": []
          }
        }
      ]
    },
    {
      "cell_type": "markdown",
      "metadata": {
        "colab_type": "text",
        "id": "yx-gZCK9HpkN"
      },
      "source": [
        "###Performance Interpretation "
      ]
    },
    {
      "cell_type": "markdown",
      "metadata": {
        "colab_type": "text",
        "id": "Ogna96d1HpkP"
      },
      "source": [
        "* Using Auto ML, the model achieves 84.62% accuracy \n",
        "* Here, recall =  0.84. The model can identify 84% heart disease patients correctly\n",
        "* The Auto ML model performs better than SVM but worse than Logistic Regression and Random Forest in terms of recall"
      ]
    },
    {
      "cell_type": "markdown",
      "metadata": {
        "id": "9ZbyShWLH-mF",
        "colab_type": "text"
      },
      "source": [
        "#Deployment"
      ]
    },
    {
      "cell_type": "markdown",
      "metadata": {
        "id": "wAOExW2QQZWW",
        "colab_type": "text"
      },
      "source": [
        "* In this project, we build classification machine learning models in Python using Heart Disease dataset.\n",
        "* Four classification models (LogisticRegression, SVM, RandomForest, Auto ML) are evaluated in terms of accuracy, confusion matrix, precision, recall and ROC AUC. \n",
        "* From business impact viewpoint, we choose recall as the most important metric. \n",
        "* The modeling and evaluation results show that Auto ML model performs better than SVM but worse than Logistic Regression and Random Forest in terms of recall.\n",
        "* Random Forest Model with GridSearch has the highest recall of 0.92. This means the model can identify 92% heart disease patients correctly.\n",
        "* Deploying this model has the potential to predict the presence of heart disease in the patient with high accuracy and enable the healthcare organization to develop proactive medical interventions for the patient."
      ]
    }
  ]
}